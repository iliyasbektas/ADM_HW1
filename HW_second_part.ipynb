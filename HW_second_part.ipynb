{
 "cells": [
  {
   "cell_type": "code",
   "execution_count": null,
   "metadata": {},
   "outputs": [],
   "source": [
    "# Recursive Digit Sum\n",
    "\n",
    "import math\n",
    "import os\n",
    "import random\n",
    "import re\n",
    "import sys\n",
    "\n",
    "# Complete the superDigit function below.\n",
    "def superDigit(n, k):\n",
    "    return 1 + (k * sum(int(x) for x in n) - 1) % 9\n",
    "\n",
    "if __name__ == '__main__':\n",
    "    fptr = open(os.environ['OUTPUT_PATH'], 'w')\n",
    "\n",
    "    nk = input().split()\n",
    "\n",
    "    n = nk[0]\n",
    "\n",
    "    k = int(nk[1])\n",
    "\n",
    "    result = superDigit(n, k)\n",
    "\n",
    "    fptr.write(str(result) + '\\n')\n",
    "\n",
    "    fptr.close()\n"
   ]
  },
  {
   "cell_type": "code",
   "execution_count": null,
   "metadata": {},
   "outputs": [],
   "source": [
    "# viral advertising\n",
    "n = int(input())\n",
    "shared = 5\n",
    "total_liked = 0\n",
    "\n",
    "for i in range(0, n):\n",
    "    liked = int(shared // 2)\n",
    "    total_liked = total_liked + liked\n",
    "    shared = liked * 3\n",
    "    \n",
    "print(total_liked)"
   ]
  },
  {
   "cell_type": "code",
   "execution_count": null,
   "metadata": {},
   "outputs": [],
   "source": [
    "# Number line jumps\n",
    "\n",
    "import math\n",
    "import os\n",
    "import random\n",
    "import re\n",
    "import sys\n",
    "\n",
    "# Complete the kangaroo function below.\n",
    "def kangaroo(x1, v1, x2, v2):\n",
    "    if (x1 == x2): \n",
    "        return 'YES'\n",
    "    elif (x1 > x2):\n",
    "        return 'NO'\n",
    "    elif (v2 > v1):\n",
    "        return 'NO'\n",
    "    elif (v2 == v1):\n",
    "        return 'NO'\n",
    "    x1 += v1;\n",
    "    x2 += v2;\n",
    "    return (kangaroo(x1, v1, x2, v2))\n",
    "\n",
    "\n",
    "# fptr = open(os.environ['OUTPUT_PATH'], 'w')\n",
    "\n",
    "x1V1X2V2 = input().split()\n",
    "x1 = int(x1V1X2V2[0])\n",
    "v1 = int(x1V1X2V2[1])\n",
    "x2 = int(x1V1X2V2[2])\n",
    "v2 = int(x1V1X2V2[3])\n",
    "result = kangaroo(x1, v1, x2, v2)\n",
    "print(result)\n",
    "\n",
    "# fptr.write(result + '\\n')\n",
    "# fptr.close()\n"
   ]
  },
  {
   "cell_type": "code",
   "execution_count": null,
   "metadata": {},
   "outputs": [],
   "source": [
    "# birthday cake candles\n",
    "n_candles = input()\n",
    "candles_height  = list(map(int, input().split()))\n",
    "tallest_candles = max(candles_height)\n",
    "print (candles_height.count(tallest_candles))"
   ]
  }
 ],
 "metadata": {
  "kernelspec": {
   "display_name": "Python 3",
   "language": "python",
   "name": "python3"
  },
  "language_info": {
   "codemirror_mode": {
    "name": "ipython",
    "version": 3
   },
   "file_extension": ".py",
   "mimetype": "text/x-python",
   "name": "python",
   "nbconvert_exporter": "python",
   "pygments_lexer": "ipython3",
   "version": "3.7.4"
  }
 },
 "nbformat": 4,
 "nbformat_minor": 2
}
