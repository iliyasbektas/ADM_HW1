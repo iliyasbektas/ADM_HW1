{
 "cells": [
  {
   "cell_type": "code",
   "execution_count": null,
   "metadata": {},
   "outputs": [],
   "source": [
    "\n",
    "my_string = \"Hello, World!\"\n",
    "print(my_string)\n"
   ]
  },
  {
   "cell_type": "code",
   "execution_count": null,
   "metadata": {},
   "outputs": [],
   "source": [
    "\n",
    "\n",
    "import math\n",
    "import os\n",
    "import random\n",
    "import re\n",
    "import sys\n",
    "\n",
    "n = int(raw_input().strip())\n",
    "\n",
    "if n % 2 != 0:\n",
    "   print(\"Weird\")\n",
    "else:\n",
    "     if  2 <= n <=5:\n",
    "        print(\"Not Weird\")\n",
    "     elif 6 <= n  <=20:\n",
    "        print(\"Weird\")\n",
    "     elif n>=20:\n",
    "        print(\"Not Weird\")\n"
   ]
  },
  {
   "cell_type": "code",
   "execution_count": null,
   "metadata": {},
   "outputs": [],
   "source": [
    "\n",
    "if __name__ == '__main__':\n",
    "    a = int(input())\n",
    "    b = int(input())\n",
    "\n",
    "print(a+b)\n",
    "print(a-b)\n",
    "print(a*b)\n"
   ]
  },
  {
   "cell_type": "code",
   "execution_count": null,
   "metadata": {},
   "outputs": [],
   "source": [
    "\n",
    "if __name__ == '__main__':\n",
    "    a = int(input())\n",
    "    b = int(input())\n",
    "\n",
    "print (a//b)\n",
    "print (a/b)\n"
   ]
  },
  {
   "cell_type": "code",
   "execution_count": null,
   "metadata": {},
   "outputs": [],
   "source": [
    "if __name__ == '__main__':\n",
    "    n = int(input())\n",
    "\n",
    "for i in range(n):\n",
    "    print(i*i)\n"
   ]
  },
  {
   "cell_type": "code",
   "execution_count": null,
   "metadata": {},
   "outputs": [],
   "source": [
    "def is_leap(year):\n",
    "    leap = False\n",
    "    \n",
    "    # Write your logic here\n",
    "    if year % 100 == 0:\n",
    "        leap = False\n",
    "    elif year % 400 == 0:\n",
    "        leap = True\n",
    "    elif year % 4 == 0:\n",
    "        leap = True\n",
    "    \n",
    "    return leap\n",
    "\n"
   ]
  },
  {
   "cell_type": "code",
   "execution_count": null,
   "metadata": {},
   "outputs": [],
   "source": [
    "if __name__ == '__main__':\n",
    "    n = int(input())\n",
    "\n",
    "for i in range(1, n+1):\n",
    "    print(i, end='')\n"
   ]
  },
  {
   "cell_type": "code",
   "execution_count": null,
   "metadata": {},
   "outputs": [],
   "source": [
    "if __name__ == '__main__':\n",
    "    x = int(input())\n",
    "    y = int(input())\n",
    "    z = int(input())\n",
    "    n = int(input())\n",
    "\n",
    "a = [[l,m,k] for l in range(x+1) for m in range(y+1) for k in range(z+1) if l+m+k != n]\n",
    "print(a)\n"
   ]
  },
  {
   "cell_type": "code",
   "execution_count": null,
   "metadata": {},
   "outputs": [],
   "source": [
    "if __name__ == '__main__':\n",
    "    n = int(input())\n",
    "    arr = map(int, input().split())\n",
    "\n",
    "\n",
    "arr = set(arr)\n",
    "arr = sorted(list(arr)) # runner up score\n",
    "print(arr[-2])"
   ]
  },
  {
   "cell_type": "code",
   "execution_count": null,
   "metadata": {},
   "outputs": [],
   "source": [
    "n=int(input())\n",
    "arr=[[input(),float(input())] for _ in range(0,n)]\n",
    "arr.sort(key=lambda x: (x[1],x[0]))\n",
    "names = [i[0] for i in arr]\n",
    "marks = [i[1] for i in arr]\n",
    "min_val=min(marks)\n",
    "while marks[0]==min_val:\n",
    "    marks.remove(marks[0])\n",
    "    names.remove(names[0])    \n",
    "for x in range(0,len(marks)):\n",
    "    if marks[x]==min(marks):\n",
    "        print(names[x]) # the second lowest grade"
   ]
  },
  {
   "cell_type": "code",
   "execution_count": null,
   "metadata": {},
   "outputs": [],
   "source": [
    "if __name__ == '__main__':\n",
    "    \n",
    "    res = {}\n",
    "    n = int(input())\n",
    "    for _ in range(n):\n",
    "        name, *line = input().split()\n",
    "        marks = list(map(float, line))\n",
    "        res[name] = marks\n",
    "    name = input()\n",
    "    score= res[name]\n",
    "    b=(sum(score)/len(score))\n",
    "    print (b)\n"
   ]
  },
  {
   "cell_type": "code",
   "execution_count": null,
   "metadata": {},
   "outputs": [],
   "source": [
    "def wrap(string, max_width):\n",
    "    return textwrap.fill(string, max_width)"
   ]
  },
  {
   "cell_type": "code",
   "execution_count": null,
   "metadata": {},
   "outputs": [],
   "source": [
    "import re\n",
    "TESTER = re.compile(\n",
    "    r\"^\"\n",
    "    r\"\\d{3}\"\n",
    "    r\"(?!.*(\\d)(-?\\1){3})\"\n",
    "    r\"[456]\"\n",
    "    r\"(?:-?\\d{4}){3}\"\n",
    "    r\"$\")\n",
    "for _ in range(int(input().strip())):\n",
    "    print(\"Valid\" if TESTER.search(input().strip()) else \"Invalid\")\n"
   ]
  },
  {
   "cell_type": "code",
   "execution_count": null,
   "metadata": {},
   "outputs": [],
   "source": [
    "def swap_case(s):\n",
    "    return s.swapcase()"
   ]
  },
  {
   "cell_type": "code",
   "execution_count": null,
   "metadata": {},
   "outputs": [],
   "source": [
    "def print_full_name(a, b):\n",
    "    print(\"Hello\", a, b + \"! You just delved into python.\")"
   ]
  },
  {
   "cell_type": "code",
   "execution_count": null,
   "metadata": {},
   "outputs": [],
   "source": [
    "def mutate_string(string, position, character):\n",
    "    \n",
    "    return string[:position] + character + string[position+1:]"
   ]
  },
  {
   "cell_type": "code",
   "execution_count": null,
   "metadata": {},
   "outputs": [],
   "source": [
    "def count_substring(string, sub_string):\n",
    "    count = 0\n",
    "    for i in range(len(string) - len(sub_string) + 1):\n",
    "        if string[i:i+len(sub_string)] == sub_string:\n",
    "            count += 1\n",
    "    \n",
    "    return count\n"
   ]
  },
  {
   "cell_type": "code",
   "execution_count": null,
   "metadata": {},
   "outputs": [],
   "source": [
    "if __name__ == '__main__':\n",
    "    s = str(input())\n",
    "    print (any(c.isalnum() for c in s))\n",
    "    print (any(c.isalpha() for c in s))\n",
    "    print (any(c.isdigit() for c in s))\n",
    "    print (any(c.islower() for c in s))\n",
    "    print (any(c.isupper() for c in s))\n",
    "    \n"
   ]
  },
  {
   "cell_type": "code",
   "execution_count": null,
   "metadata": {},
   "outputs": [],
   "source": [
    "def split_and_join(line):\n",
    "    T = line.split(\" \")\n",
    "    return \"-\".join(T)"
   ]
  },
  {
   "cell_type": "code",
   "execution_count": null,
   "metadata": {},
   "outputs": [],
   "source": [
    "N,M= map(int,input().split())\n",
    "pattern = [ ((\".|.\")*(2*i+1)).center(M,'-') for i in range(N//2) ]\n",
    "\n",
    "print('\\n'.join( pattern + [\"WELCOME\".center(M,'-')] + pattern[::-1] ))"
   ]
  },
  {
   "cell_type": "code",
   "execution_count": null,
   "metadata": {},
   "outputs": [],
   "source": [
    "def print_formatted(num):\n",
    "\n",
    "    w = len(\"{0:b}\".format(num))\n",
    "\n",
    "    for n in range(1, num + 1):\n",
    "        print(\"{0:{w}d} {0:{w}o} {0:{w}X} {0:{w}b}\".format(n, w = w))\n",
    "\n",
    "\n",
    "\n"
   ]
  },
  {
   "cell_type": "code",
   "execution_count": null,
   "metadata": {},
   "outputs": [],
   "source": [
    "import textwrap\n",
    "import string\n",
    "import sys\n",
    "\n",
    "\n",
    "def remove_duplicates_in_str(arg_str):\n",
    "    new_str = ''\n",
    "    len_str = len(arg_str)\n",
    "    for ch in arg_str:\n",
    "        if ch in new_str:\n",
    "            continue\n",
    "        else:\n",
    "            new_str += ch\n",
    "\n",
    "    return new_str\n",
    "\n",
    "\n",
    "\n",
    "\n",
    "def merge_the_tools(string, k):\n",
    " \n",
    "    len_of_u_string = int(k)\n",
    "    len_of_full_string = len(string)\n",
    "    u_tmp = []\n",
    "    i = 0\n",
    "    for i in range(0,len(string),int(k)):\n",
    "        tmp_str = string[i:i+len_of_u_string]\n",
    "        tmp_str = remove_duplicates_in_str(tmp_str)\n",
    "        print(tmp_str)\n",
    "        u_tmp.append(tmp_str)\n",
    "\n",
    "    return 0\n"
   ]
  },
  {
   "cell_type": "code",
   "execution_count": null,
   "metadata": {},
   "outputs": [],
   "source": [
    "def solve(s):\n",
    "    return ' '.join([word.capitalize() for word in s.split(' ')])"
   ]
  },
  {
   "cell_type": "code",
   "execution_count": null,
   "metadata": {},
   "outputs": [],
   "source": [
    "number_of_countries = int(input())\n",
    "set_of_countries = set(input() for i in range(number_of_countries))\n",
    "    \n",
    "print (len(set_of_countries))"
   ]
  },
  {
   "cell_type": "code",
   "execution_count": null,
   "metadata": {},
   "outputs": [],
   "source": [
    "\n",
    "num1 = int(input())\n",
    "set1 = set(map(int, input().split()))\n",
    "num2 = int(input())\n",
    "set2 = set(map(int, input().split()))\n",
    "u = set1.union(set2)\n",
    "\n",
    "print (len(u))\n"
   ]
  },
  {
   "cell_type": "code",
   "execution_count": null,
   "metadata": {},
   "outputs": [],
   "source": [
    "num1 = int(input())\n",
    "set1 = set(map(int, input().split()))\n",
    "num2 = int(input())\n",
    "set2 = set(map(int, input().split()))\n",
    "i = set1.intersection(set2)\n",
    "\n",
    "print (len(i))"
   ]
  },
  {
   "cell_type": "code",
   "execution_count": null,
   "metadata": {},
   "outputs": [],
   "source": [
    "# Enter your code here. Read input from STDIN. Print output to STDOUT\n",
    "from collections import Counter\n",
    "\n",
    "n_shoes = int(input())\n",
    "list_shoe_sizes = list(map(int, input().split())) \n",
    "dictionary_for_shoe_sizes = Counter(list_shoe_sizes)\n",
    "set1 = []\n",
    "n_customers = int(input()) \n",
    "\n",
    "for i in range(n_customers):\n",
    "    s, p = map(int, input().split())\n",
    "    \n",
    "    if s in dictionary_for_shoe_sizes and dictionary_for_shoe_sizes[s] > 0:\n",
    "        set1.append(p)\n",
    "        dictionary_for_shoe_sizes[s] -= 1\n",
    "print(sum(set1))\n"
   ]
  },
  {
   "cell_type": "code",
   "execution_count": null,
   "metadata": {},
   "outputs": [],
   "source": [
    "import calendar\n",
    "\n",
    "date = list(map(int,input().split()))\n",
    "a = calendar.weekday(date[2],date[0],date[1])\n",
    "week = ['MONDAY','TUESDAY','WEDNESDAY','THURSDAY','FRIDAY','SATURDAY','SUNDAY']\n",
    "\n",
    "print (week[a])\n"
   ]
  },
  {
   "cell_type": "code",
   "execution_count": null,
   "metadata": {},
   "outputs": [],
   "source": [
    "# 5 3\n",
    "# 89 90 78 93 80\n",
    "# 90 91 85 88 86  \n",
    "# 91 92 83 89 90.5\n",
    "\n",
    "n_stud, n_sub = map(int, input().split())\n",
    "\n",
    "courses = list()\n",
    "\n",
    "for n in range(0, n_sub):\n",
    "    courses.append(list(map(float, input().split())))\n",
    "\n",
    "pupils = list(zip(*courses))\n",
    "\n",
    "for n in range(0, n_stud):\n",
    "    scores = 0\n",
    "    for j in range(0, n_sub):\n",
    "        scores += pupils[n][j]\n",
    "    print (scores / n_sub)\n"
   ]
  },
  {
   "cell_type": "code",
   "execution_count": null,
   "metadata": {},
   "outputs": [],
   "source": [
    "string = input()\n",
    "\n",
    "def f(x):  # we have functions for everything except even functions \n",
    "    if x.isdigit():\n",
    "        if int(x)%2 ==0:\n",
    "            return True\n",
    "        else: return False\n",
    "    else: return True\n",
    "\n",
    "print (*sorted(string,key = lambda i:(i.isdigit(),f(i),i.isupper(),i)),sep='') "
   ]
  },
  {
   "cell_type": "code",
   "execution_count": null,
   "metadata": {},
   "outputs": [],
   "source": [
    "def fibonacci(n):\n",
    "    list1 = []\n",
    "    for i in range(n) :\n",
    "        if i <= 1 :\n",
    "                list1.append(i)\n",
    "        else:\n",
    "                f = int(list1[i-2])+int(list1[i-1])\n",
    "                list1.append(f)\n",
    "    return list1\n",
    "def cube(n):\n",
    "    return (n*n*n)\n",
    "\n",
    "print (list(map(cube,fibonacci(num))))\n"
   ]
  },
  {
   "cell_type": "code",
   "execution_count": null,
   "metadata": {},
   "outputs": [],
   "source": [
    "import re\n",
    "\n",
    "string = input()\n",
    "regex_pattern = r\"[,.]\"\n",
    "\n",
    "\n",
    "print(\"\\n\".join(re.split(regex_pattern, string)))\n"
   ]
  },
  {
   "cell_type": "code",
   "execution_count": null,
   "metadata": {},
   "outputs": [],
   "source": [
    "# Enter your code here. Read input from STDIN. Print output to STDOUT\n",
    "string = input()\n",
    "print (next((k for k, l in zip(string, string[1:]) if k == l and k.isalnum()), -1))\n"
   ]
  },
  {
   "cell_type": "code",
   "execution_count": null,
   "metadata": {},
   "outputs": [],
   "source": [
    "set1 = set(map(int, input().split()))\n",
    "num = int(input())\n",
    "result = True\n",
    "\n",
    "for i in range(num):\n",
    "    set2 = set(map(int, input().split()))\n",
    "    if not set2.issubset(set1):\n",
    "        result = False\n",
    "    if len(set2) >= len(set1):\n",
    "        result = False\n",
    "\n",
    "print(result)"
   ]
  },
  {
   "cell_type": "code",
   "execution_count": null,
   "metadata": {},
   "outputs": [],
   "source": [
    "for i in range(int(input())):  \n",
    "    num1 = int(input())\n",
    "    set1 = set(map(int, input().split()))\n",
    "    num2 = int(input())\n",
    "    set2 = set(map(int, input().split()))\n",
    "    if set1.issubset(set2) : print (True)\n",
    "    else : print (False)\n"
   ]
  },
  {
   "cell_type": "code",
   "execution_count": null,
   "metadata": {},
   "outputs": [],
   "source": [
    "# Enter your code here. Read input from STDIN. Print output to STDOUT\n",
    "num1 = int(input())\n",
    "set1 = set(map(int, input().split()))\n",
    "num2 = int(input())\n",
    "set2 = set(map(int, input().split()))\n",
    "i = set1.difference(set2)\n",
    "\n",
    "print (len(i))\n"
   ]
  },
  {
   "cell_type": "code",
   "execution_count": null,
   "metadata": {},
   "outputs": [],
   "source": [
    "import numpy as np\n",
    "\n",
    "set1 = np.array(input().split(' '),int)\n",
    "set1 = set1.reshape(3,3)\n",
    "print (set1)"
   ]
  },
  {
   "cell_type": "code",
   "execution_count": null,
   "metadata": {},
   "outputs": [],
   "source": [
    "import numpy as np \n",
    "\n",
    "parameters = list(map(int, input().split()))\n",
    "array1 = np.array([input().split() for i in range(parameters[1])], int)\n",
    "array2 = np.array([input().split() for i in range(parameters[0])], int)\n",
    "\n",
    "print (np.concatenate((array1, array2), axis = 0))\n",
    "\n"
   ]
  },
  {
   "cell_type": "code",
   "execution_count": null,
   "metadata": {},
   "outputs": [],
   "source": [
    "import numpy as np \n",
    "a = list(map(int,input().split()))\n",
    "\n",
    "print (np.zeros(a,dtype = np.int))\n",
    "print (np.ones(a,dtype = np.int))\n"
   ]
  },
  {
   "cell_type": "code",
   "execution_count": null,
   "metadata": {},
   "outputs": [],
   "source": [
    "import numpy as np\n",
    "\n",
    "nm = list(map(int, input().split(' ')))\n",
    "#print (np.identity(nm[0]))\n",
    "print (np.eye(nm[0], nm[1], k = 0))"
   ]
  },
  {
   "cell_type": "code",
   "execution_count": null,
   "metadata": {},
   "outputs": [],
   "source": [
    "import numpy as np\n",
    "nm = list(map(int,input().split()))\n",
    "a1,a2 = [],[]\n",
    "for i in range(nm[0]):\n",
    "    a1.append(list(map(int,input().split())))\n",
    "for i in range(nm[0]):\n",
    "    a2.append(list(map(int,input().split())))\n",
    "A1,A2 = np.array(a1),np.array(a2)\n",
    "print (np.add(A1,A2))\n",
    "print (np.subtract(A1,A2))\n",
    "print (np.multiply(A1,A2))\n",
    "print (np.floor_divide(A1,A2))\n",
    "print (np.mod(A1,A2))\n",
    "print (np.power(A1,A2))\n"
   ]
  },
  {
   "cell_type": "code",
   "execution_count": null,
   "metadata": {},
   "outputs": [],
   "source": [
    "\n",
    "import numpy as np\n",
    "\n",
    "array = np.array(input().split(), float)\n",
    "print (np.floor(array))\n",
    "print (np.ceil(array))\n",
    "print (np.rint(array))\n"
   ]
  },
  {
   "cell_type": "code",
   "execution_count": null,
   "metadata": {},
   "outputs": [],
   "source": [
    "import numpy as np\n",
    "nm = list(map(int,input().split()))\n",
    "n = [list(map(int,input().split())) for _ in range(nm[0])]\n",
    "array = np.array(n)\n",
    "summation = np.sum(array,axis=0)\n",
    "print (np.prod(summation,axis=0))\n"
   ]
  },
  {
   "cell_type": "code",
   "execution_count": null,
   "metadata": {},
   "outputs": [],
   "source": [
    "import numpy as np\n",
    "nm = list(map(int,input().split()))\n",
    "array = np.array([list(map(int,input().split())) for _ in range(nm[0])])\n",
    "mini = np.min(array,axis=1)\n",
    "print (np.max(mini))\n"
   ]
  },
  {
   "cell_type": "code",
   "execution_count": null,
   "metadata": {},
   "outputs": [],
   "source": [
    "import numpy as np \n",
    "nm = list(map(int,input().split()))\n",
    "n = [list(map(int,input().split())) for _ in range(nm[0])]\n",
    "array = np.array(n)\n",
    "print (np.mean(array, axis = 1))\n",
    "print (np.var(array, axis = 0))\n",
    "print (np.std(array, axis = None))"
   ]
  },
  {
   "cell_type": "code",
   "execution_count": null,
   "metadata": {},
   "outputs": [],
   "source": [
    "import numpy as np\n",
    "\n",
    "n= int(input())\n",
    "A = np.array([input().split() for i in range(n)], int)\n",
    "B = np.array([input().split() for i in range(n)], int)\n",
    "print (np.dot(A, B))\n"
   ]
  },
  {
   "cell_type": "code",
   "execution_count": null,
   "metadata": {},
   "outputs": [],
   "source": [
    "import numpy as np\n",
    "\n",
    "array1 = np.array(input().split(), int)\n",
    "array2 = np.array(input().split(), int)\n",
    "\n",
    "print (np.inner(array1, array2))\n",
    "print (np.outer(array1, array2))\n"
   ]
  },
  {
   "cell_type": "code",
   "execution_count": null,
   "metadata": {},
   "outputs": [],
   "source": [
    "import numpy as np\n",
    "\n",
    "A = list(map(float, input().split()))\n",
    "print (np.polyval(A, int(input())))"
   ]
  },
  {
   "cell_type": "code",
   "execution_count": null,
   "metadata": {},
   "outputs": [],
   "source": [
    "import numpy as np\n",
    "\n",
    "n = int(input())\n",
    "array = np.array([list(map(float, input().split())) for i in range(n)])\n",
    "print (np.linalg.det(array))\n"
   ]
  },
  {
   "cell_type": "code",
   "execution_count": null,
   "metadata": {},
   "outputs": [],
   "source": [
    "import numpy as np\n",
    "\n",
    "n = int(input())\n",
    "array = np.array([list(map(float, input().split())) for i in range(n)])\n",
    "print (np.linalg.det(array))"
   ]
  },
  {
   "cell_type": "code",
   "execution_count": null,
   "metadata": {},
   "outputs": [],
   "source": [
    "\n",
    "nm = numpy.array(list(map(float,input().split())))\n",
    "print nm[::-1]\n",
    "def arrays(arr):"
   ]
  }
 ],
 "metadata": {
  "kernelspec": {
   "display_name": "Python 3",
   "language": "python",
   "name": "python3"
  },
  "language_info": {
   "codemirror_mode": {
    "name": "ipython",
    "version": 3
   },
   "file_extension": ".py",
   "mimetype": "text/x-python",
   "name": "python",
   "nbconvert_exporter": "python",
   "pygments_lexer": "ipython3",
   "version": "3.7.4"
  }
 },
 "nbformat": 4,
 "nbformat_minor": 2
}
